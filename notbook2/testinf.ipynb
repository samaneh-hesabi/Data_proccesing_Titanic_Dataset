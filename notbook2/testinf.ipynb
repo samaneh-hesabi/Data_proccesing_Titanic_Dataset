{
 "cells": [
  {
   "cell_type": "markdown",
   "metadata": {},
   "source": [
    "# Install Libraries"
   ]
  },
  {
   "cell_type": "code",
   "execution_count": 1,
   "metadata": {},
   "outputs": [
    {
     "name": "stdout",
     "output_type": "stream",
     "text": [
      "Requirement already satisfied: pandas in /home/samaneh/miniconda3/envs/project4/lib/python3.11/site-packages (2.2.3)\n",
      "Requirement already satisfied: seaborn in /home/samaneh/miniconda3/envs/project4/lib/python3.11/site-packages (0.13.2)\n",
      "Requirement already satisfied: matplotlib in /home/samaneh/miniconda3/envs/project4/lib/python3.11/site-packages (3.10.1)\n",
      "Requirement already satisfied: scikit-learn in /home/samaneh/miniconda3/envs/project4/lib/python3.11/site-packages (1.6.1)\n",
      "Requirement already satisfied: numpy in /home/samaneh/miniconda3/envs/project4/lib/python3.11/site-packages (2.2.4)\n",
      "Requirement already satisfied: python-dateutil>=2.8.2 in /home/samaneh/miniconda3/envs/project4/lib/python3.11/site-packages (from pandas) (2.9.0.post0)\n",
      "Requirement already satisfied: pytz>=2020.1 in /home/samaneh/miniconda3/envs/project4/lib/python3.11/site-packages (from pandas) (2025.2)\n",
      "Requirement already satisfied: tzdata>=2022.7 in /home/samaneh/miniconda3/envs/project4/lib/python3.11/site-packages (from pandas) (2025.2)\n",
      "Requirement already satisfied: contourpy>=1.0.1 in /home/samaneh/miniconda3/envs/project4/lib/python3.11/site-packages (from matplotlib) (1.3.1)\n",
      "Requirement already satisfied: cycler>=0.10 in /home/samaneh/miniconda3/envs/project4/lib/python3.11/site-packages (from matplotlib) (0.12.1)\n",
      "Requirement already satisfied: fonttools>=4.22.0 in /home/samaneh/miniconda3/envs/project4/lib/python3.11/site-packages (from matplotlib) (4.57.0)\n",
      "Requirement already satisfied: kiwisolver>=1.3.1 in /home/samaneh/miniconda3/envs/project4/lib/python3.11/site-packages (from matplotlib) (1.4.8)\n",
      "Requirement already satisfied: packaging>=20.0 in /home/samaneh/miniconda3/envs/project4/lib/python3.11/site-packages (from matplotlib) (24.2)\n",
      "Requirement already satisfied: pillow>=8 in /home/samaneh/miniconda3/envs/project4/lib/python3.11/site-packages (from matplotlib) (11.2.1)\n",
      "Requirement already satisfied: pyparsing>=2.3.1 in /home/samaneh/miniconda3/envs/project4/lib/python3.11/site-packages (from matplotlib) (3.2.3)\n",
      "Requirement already satisfied: scipy>=1.6.0 in /home/samaneh/miniconda3/envs/project4/lib/python3.11/site-packages (from scikit-learn) (1.15.2)\n",
      "Requirement already satisfied: joblib>=1.2.0 in /home/samaneh/miniconda3/envs/project4/lib/python3.11/site-packages (from scikit-learn) (1.4.2)\n",
      "Requirement already satisfied: threadpoolctl>=3.1.0 in /home/samaneh/miniconda3/envs/project4/lib/python3.11/site-packages (from scikit-learn) (3.6.0)\n",
      "Requirement already satisfied: six>=1.5 in /home/samaneh/miniconda3/envs/project4/lib/python3.11/site-packages (from python-dateutil>=2.8.2->pandas) (1.16.0)\n",
      "Note: you may need to restart the kernel to use updated packages.\n"
     ]
    }
   ],
   "source": [
    "pip install pandas seaborn matplotlib scikit-learn numpy"
   ]
  },
  {
   "cell_type": "markdown",
   "metadata": {},
   "source": []
  },
  {
   "cell_type": "code",
   "execution_count": 2,
   "metadata": {},
   "outputs": [
    {
     "name": "stdout",
     "output_type": "stream",
     "text": [
      "    Age  Income     City  Age_Missing_Flag  Income_Missing_Flag\n",
      "0  25.0  5000.0   Tehran                 0                    0\n",
      "1  30.0  6000.0   Shiraz                 1                    0\n",
      "2  30.0  5500.0  Isfahan                 0                    1\n",
      "3  22.0  4500.0  Missing                 0                    0\n",
      "4  30.0  5500.0   Tabriz                 1                    0\n",
      "5  35.0  5500.0   Tehran                 0                    1\n",
      "6  40.0  8000.0  Mashhad                 0                    0\n"
     ]
    }
   ],
   "source": [
    "import numpy as np\n",
    "import pandas as pd\n",
    "\n",
    "# Step 1: Create a dataset with missing values\n",
    "data = {\n",
    "    'Age': [25, np.nan, 30, 22, np.nan, 35, 40],\n",
    "    'Income': [5000, 6000, np.nan, 4500, 5500, np.nan, 8000],\n",
    "    'City': ['Tehran', 'Shiraz', 'Isfahan', np.nan, 'Tabriz', 'Tehran', 'Mashhad']\n",
    "}\n",
    "\n",
    "df = pd.DataFrame(data)\n",
    "\n",
    "# Step 2: Encoding Missing as a Separate Category (For categorical column 'City')\n",
    "df['City'] = df['City'].fillna('Missing')\n",
    "\n",
    "# Step 3: Flagging Missing Values (For numerical columns)\n",
    "df['Age_Missing_Flag'] = df['Age'].isna().astype(int)\n",
    "df['Income_Missing_Flag'] = df['Income'].isna().astype(int)\n",
    "\n",
    "# Step 4: Fill missing values in numerical columns (optional)\n",
    "df['Age'] = df['Age'].fillna(df['Age'].median())  # Fill with median\n",
    "df['Income'] = df['Income'].fillna(df['Income'].median())  # Fill with median\n",
    "\n",
    "# Print the final dataset\n",
    "print(df)\n"
   ]
  },
  {
   "cell_type": "code",
   "execution_count": 3,
   "metadata": {},
   "outputs": [
    {
     "name": "stdout",
     "output_type": "stream",
     "text": [
      "Original DataFrame with Missing Values:\n",
      "     Age  Income  Spending_Score\n",
      "0  25.0  5000.0            65.0\n",
      "1   NaN  6000.0            80.0\n",
      "2  30.0     NaN            70.0\n",
      "3  22.0  4500.0             NaN\n",
      "4   NaN  5500.0            60.0\n",
      "5  35.0     NaN            75.0\n",
      "6  40.0  8000.0             NaN\n",
      "\n",
      "KNN Imputed DataFrame:\n",
      "     Age  Income  Spending_Score\n",
      "0  25.0  5000.0            65.0\n",
      "1  32.5  6000.0            80.0\n",
      "2  30.0  4750.0            70.0\n",
      "3  22.0  4500.0            72.5\n",
      "4  32.5  5500.0            60.0\n",
      "5  35.0  7000.0            75.0\n",
      "6  40.0  8000.0            72.5\n",
      "\n",
      "Multivariate (Iterative) Imputed DataFrame:\n",
      "          Age       Income  Spending_Score\n",
      "0  25.000000  5000.000000       65.000000\n",
      "1  29.854751  6000.000000       80.000000\n",
      "2  30.000000  6028.496285       70.000000\n",
      "3  22.000000  4500.000000       63.519291\n",
      "4  27.310712  5500.000000       60.000000\n",
      "5  35.000000  7009.262620       75.000000\n",
      "6  40.000000  8000.000000       79.634126\n"
     ]
    }
   ],
   "source": [
    "import numpy as np\n",
    "import pandas as pd\n",
    "from sklearn.impute import KNNImputer\n",
    "from sklearn.experimental import enable_iterative_imputer  # Required for IterativeImputer\n",
    "from sklearn.impute import IterativeImputer\n",
    "\n",
    "# Step 1: Create a dataset with missing values\n",
    "data = {\n",
    "    'Age': [25, np.nan, 30, 22, np.nan, 35, 40],\n",
    "    'Income': [5000, 6000, np.nan, 4500, 5500, np.nan, 8000],\n",
    "    'Spending_Score': [65, 80, 70, np.nan, 60, 75, np.nan]\n",
    "}\n",
    "\n",
    "df = pd.DataFrame(data)\n",
    "\n",
    "# Step 2: Apply KNN Imputation\n",
    "knn_imputer = KNNImputer(n_neighbors=2)  # Use 2 nearest neighbors\n",
    "df_knn_imputed = pd.DataFrame(knn_imputer.fit_transform(df), columns=df.columns)\n",
    "\n",
    "# Step 3: Apply Multivariate (Iterative) Imputation\n",
    "iter_imputer = IterativeImputer(max_iter=10, random_state=42)  # Regression-based imputation\n",
    "df_iter_imputed = pd.DataFrame(iter_imputer.fit_transform(df), columns=df.columns)\n",
    "\n",
    "# Print the original and imputed DataFrames\n",
    "print(\"Original DataFrame with Missing Values:\\n\", df)\n",
    "print(\"\\nKNN Imputed DataFrame:\\n\", df_knn_imputed)\n",
    "print(\"\\nMultivariate (Iterative) Imputed DataFrame:\\n\", df_iter_imputed)\n"
   ]
  }
 ],
 "metadata": {
  "kernelspec": {
   "display_name": "project4",
   "language": "python",
   "name": "python3"
  },
  "language_info": {
   "codemirror_mode": {
    "name": "ipython",
    "version": 3
   },
   "file_extension": ".py",
   "mimetype": "text/x-python",
   "name": "python",
   "nbconvert_exporter": "python",
   "pygments_lexer": "ipython3",
   "version": "3.11.11"
  }
 },
 "nbformat": 4,
 "nbformat_minor": 2
}
